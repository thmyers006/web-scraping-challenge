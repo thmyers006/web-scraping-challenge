{
 "cells": [
  {
   "cell_type": "code",
   "execution_count": null,
   "metadata": {},
   "outputs": [],
   "source": [
    "#pip install splinter"
   ]
  },
  {
   "cell_type": "code",
   "execution_count": null,
   "metadata": {},
   "outputs": [],
   "source": [
    "#pip install webdriver_manager\n"
   ]
  },
  {
   "cell_type": "code",
   "execution_count": null,
   "metadata": {},
   "outputs": [],
   "source": [
    "#pip install BeautifulSoup4"
   ]
  },
  {
   "cell_type": "code",
   "execution_count": null,
   "metadata": {},
   "outputs": [],
   "source": [
    "#pip install future\n"
   ]
  },
  {
   "cell_type": "code",
   "execution_count": 2,
   "metadata": {},
   "outputs": [],
   "source": [
    "from bs4 import BeautifulSoup\n",
    "import requests\n",
    "import pandas as pd\n",
    "import pymongo\n",
    "from webdriver_manager.chrome import ChromeDriverManager\n",
    "from splinter import Browser\n"
   ]
  },
  {
   "cell_type": "code",
   "execution_count": null,
   "metadata": {},
   "outputs": [],
   "source": [
    "#ONE"
   ]
  },
  {
   "cell_type": "code",
   "execution_count": null,
   "metadata": {},
   "outputs": [],
   "source": [
    "executable_path = {\"executable_path\": ChromeDriverManager().install()}\n",
    "browser = Browser('chrome', **executable_path, headless=False)"
   ]
  },
  {
   "cell_type": "code",
   "execution_count": null,
   "metadata": {},
   "outputs": [],
   "source": [
    "\n",
    "url = 'https://mars.nasa.gov/news/?page=0&per_page=40&order=publish_date+desc%2Ccreated_at+desc&search=&category=19%2C165%2C184%2C204&blank_scope=Latest'\n",
    "browser.visit(url)\n",
    "response = requests.get(url)"
   ]
  },
  {
   "cell_type": "code",
   "execution_count": null,
   "metadata": {},
   "outputs": [],
   "source": [
    "\n",
    "soup = BeautifulSoup(response.text, 'html.parser')\n",
    "#print(soup.prettify())\n",
    "time.sleep(2)\n"
   ]
  },
  {
   "cell_type": "code",
   "execution_count": null,
   "metadata": {},
   "outputs": [],
   "source": [
    "\n",
    "html = browser.html\n",
    "soup = BeautifulSoup(html, 'html.parser')\n"
   ]
  },
  {
   "cell_type": "code",
   "execution_count": null,
   "metadata": {},
   "outputs": [],
   "source": [
    "# code to find paragraph text under latest article headline\n",
    "results = soup.find_all('div', class_=\"article_teaser_body\")[0].text\n",
    "print(results)\n",
    "\n"
   ]
  },
  {
   "cell_type": "code",
   "execution_count": null,
   "metadata": {},
   "outputs": [],
   "source": [
    "# code to find latest headline on NASA Mars News webpage\n",
    "title_one = soup.find_all('div', class_='content_title')[1].find('a').text\n",
    "\n",
    "#for title in title_one:\n",
    "    #article = soup.find_all('div', class)\n",
    "   # print (title)\n",
    "        \n",
    "print(title_one)\n",
    "browser.quit"
   ]
  },
  {
   "cell_type": "code",
   "execution_count": null,
   "metadata": {},
   "outputs": [],
   "source": []
  },
  {
   "cell_type": "code",
   "execution_count": null,
   "metadata": {},
   "outputs": [],
   "source": [
    "#TWO"
   ]
  },
  {
   "cell_type": "code",
   "execution_count": null,
   "metadata": {},
   "outputs": [],
   "source": [
    "# code to prepare to use splinter to scrape the web \n",
    "#executable_path = {'/Users/thmye/.wdm/drivers/chromedriver/win32/87.0.4280.88': ChromeDriverManager().install()}\n",
    "\n",
    "executable_path = {\"executable_path\": ChromeDriverManager().install()}\n",
    "browser = Browser('chrome', **executable_path, headless=False)\n"
   ]
  },
  {
   "cell_type": "code",
   "execution_count": null,
   "metadata": {},
   "outputs": [],
   "source": [
    "# code to designate the web page to scrape for 'featured Mars image'\n",
    "url1 = \"https://www.jpl.nasa.gov\"\n",
    "url2 = \"https://www.jpl.nasa.gov/spaceimages/?search=featured+&category=Mars#submit\"\n",
    "browser.visit(url2)\n",
    "#response = requests.get(url2)"
   ]
  },
  {
   "cell_type": "code",
   "execution_count": null,
   "metadata": {},
   "outputs": [],
   "source": [
    "# Find and click the full image button\n",
    "full_image_elem = browser.find_by_id('full_image')\n",
    "full_image_elem.click()"
   ]
  },
  {
   "cell_type": "code",
   "execution_count": null,
   "metadata": {},
   "outputs": [],
   "source": [
    "# Find and click the more info button\n",
    "more_info_elem = browser.links.find_by_partial_text('more info')\n",
    "more_info_elem.click()"
   ]
  },
  {
   "cell_type": "code",
   "execution_count": null,
   "metadata": {},
   "outputs": [],
   "source": [
    "# use Beautiful Soup to create a Beautiful Soup object to find 'featured image'\n",
    "for x in range(1):\n",
    "    \n",
    "    html = browser.html\n",
    "    soup = BeautifulSoup(html, 'html.parser')\n",
    "    \n",
    "            \n",
    "    featured = soup.find('figure', class_=\"lede\").find_all('a')[0]['href']\n",
    "    \n",
    "    #for feature in featured:\n",
    "    #print(featured)\n",
    "    featured_image_url = url1 + featured\n",
    "    print(featured_image_url)\n",
    "        \n",
    "#images = soup.find(\"body\", id_=\"images\")\n",
    "#print(images)\n",
    "\n",
    "browser.quit            "
   ]
  },
  {
   "cell_type": "code",
   "execution_count": null,
   "metadata": {},
   "outputs": [],
   "source": [
    "#try:\n",
    "    #images = soup.find(\"article\", class_=\"carousel_item\").find(\"style_=\", \"background-image: url\")\n",
    "    #images = soup.find(\"article alt_=\", style_=\"background-image\")\n",
    "    #featured_image_url = images['url']\n",
    "    #images = soup.find(\"article alt=\", style_=\"carousel_items\")\n",
    "    #print(images)\n",
    "    #print(featured_image_url)\n",
    "    \n",
    "    #except AttributeError as a:\n",
    "    #print(\"Ran into AttributeError\")"
   ]
  },
  {
   "cell_type": "code",
   "execution_count": null,
   "metadata": {},
   "outputs": [],
   "source": [
    "#try:\n",
    "    #full_image = browser.find_by_id(\"images\").click()\n",
    "        \n",
    "    #for image in images:\n",
    "    #mars_image = soup.find(\"div\", class_=\"img src_=\")\n",
    "    #print(mars_image)      \n",
    "             \n",
    "#except NameError as n:\n",
    "    #print(\"Scraping done!\")\n",
    "\n"
   ]
  },
  {
   "cell_type": "code",
   "execution_count": null,
   "metadata": {},
   "outputs": [],
   "source": []
  },
  {
   "cell_type": "code",
   "execution_count": null,
   "metadata": {},
   "outputs": [],
   "source": [
    "#THREE"
   ]
  },
  {
   "cell_type": "code",
   "execution_count": null,
   "metadata": {},
   "outputs": [],
   "source": [
    "# code to visit Mars Facts website and scrape table(s) using Pandas\n",
    "url3 = 'https://space-facts.com/mars/'\n",
    "mars_table = pd.read_html(url3)\n",
    "mars_table"
   ]
  },
  {
   "cell_type": "code",
   "execution_count": null,
   "metadata": {},
   "outputs": [],
   "source": [
    "# code to isolate first table\n",
    "df_1 = mars_table[0]\n",
    "df_1"
   ]
  },
  {
   "cell_type": "code",
   "execution_count": null,
   "metadata": {},
   "outputs": [],
   "source": [
    "# code to replace auto-set headers with named columns, then re-set one column as index\n",
    "df_1 = df_1.rename(columns={0: \"Mars Attribute\", 1 : \"Measurement\"})\n",
    "df_1 = df_1.set_index(\"Mars Attribute\")\n",
    "df_1"
   ]
  },
  {
   "cell_type": "code",
   "execution_count": null,
   "metadata": {},
   "outputs": [],
   "source": [
    "# code to isolate second table scraped from Mars Facts website and re-set index\n",
    "df_2 = mars_table[1]\n",
    "df_2 = df_2.set_index(\"Mars - Earth Comparison\")\n",
    "df_2\n"
   ]
  },
  {
   "cell_type": "code",
   "execution_count": null,
   "metadata": {},
   "outputs": [],
   "source": [
    "# using Pandas to convert dataframe to html table string\n",
    "html_table = df_1.to_html()\n",
    "html_table"
   ]
  },
  {
   "cell_type": "code",
   "execution_count": null,
   "metadata": {},
   "outputs": [],
   "source": [
    "# code to save dataframe as html file\n",
    "# df_1.to_html('table.html')"
   ]
  },
  {
   "cell_type": "code",
   "execution_count": null,
   "metadata": {},
   "outputs": [],
   "source": []
  },
  {
   "cell_type": "code",
   "execution_count": null,
   "metadata": {},
   "outputs": [],
   "source": [
    "# FOUR"
   ]
  },
  {
   "cell_type": "code",
   "execution_count": 27,
   "metadata": {},
   "outputs": [
    {
     "name": "stderr",
     "output_type": "stream",
     "text": [
      "[WDM] - Current google-chrome version is 87.0.4280\n",
      "[WDM] - Get LATEST driver version for 87.0.4280\n",
      "[WDM] - Driver [C:\\Users\\thmye\\.wdm\\drivers\\chromedriver\\win32\\87.0.4280.88\\chromedriver.exe] found in cache\n"
     ]
    },
    {
     "name": "stdout",
     "output_type": "stream",
     "text": [
      " \n"
     ]
    }
   ],
   "source": [
    "\n",
    "executable_path = {\"executable_path\": ChromeDriverManager().install()}\n",
    "browser = Browser('chrome', **executable_path, headless=False)\n"
   ]
  },
  {
   "cell_type": "code",
   "execution_count": 28,
   "metadata": {},
   "outputs": [],
   "source": [
    "url4 = \"https://astrogeology.usgs.gov/search/results?q=hemisphere+enhanced&k1=target&v1=Mars\"\n",
    "browser.visit(url4)"
   ]
  },
  {
   "cell_type": "code",
   "execution_count": 29,
   "metadata": {},
   "outputs": [],
   "source": [
    "html = browser.html\n",
    "soup = BeautifulSoup(html, 'html.parser')"
   ]
  },
  {
   "cell_type": "code",
   "execution_count": 30,
   "metadata": {},
   "outputs": [],
   "source": [
    "#print(soup.prettify())"
   ]
  },
  {
   "cell_type": "code",
   "execution_count": 31,
   "metadata": {},
   "outputs": [],
   "source": [
    "# Find and click the Cerberus Hemisphere Enhanced link\n",
    "#cerberus_elem = browser.links.find_by_partial_text('cerberus_enhanced')\n",
    "#cerberus_elem.click()"
   ]
  },
  {
   "cell_type": "code",
   "execution_count": 32,
   "metadata": {},
   "outputs": [],
   "source": [
    "# Find and click the Sample link\n",
    "#cerberus_sample_elem = browser.links.find_by_partial_text('Sample')\n",
    "#cerberus_sample_elem.click()"
   ]
  },
  {
   "cell_type": "code",
   "execution_count": 34,
   "metadata": {},
   "outputs": [
    {
     "name": "stdout",
     "output_type": "stream",
     "text": [
      "Cerberus Hemisphere Enhanced\n",
      "Schiaparelli Hemisphere Enhanced\n",
      "Syrtis Major Hemisphere Enhanced\n",
      "Valles Marineris Hemisphere Enhanced\n"
     ]
    }
   ],
   "source": [
    "# another way to skin a cat ...\n",
    "\n",
    "mars_hemispheres = []\n",
    "    \n",
    "for x in range(0, 4):\n",
    "    links = browser.find_by_css(\"a.product-item h3\")[x].text\n",
    "    print(links)\n",
    "    mars_hemispheres.append(links)\n",
    "        \n"
   ]
  },
  {
   "cell_type": "code",
   "execution_count": 108,
   "metadata": {},
   "outputs": [],
   "source": [
    " browser.find_by_css(\"li\").click()"
   ]
  },
  {
   "cell_type": "code",
   "execution_count": 117,
   "metadata": {},
   "outputs": [
    {
     "name": "stdout",
     "output_type": "stream",
     "text": [
      "[]\n",
      "'dict' object has no attribute 'append'\n",
      "[]\n",
      "'dict' object has no attribute 'append'\n",
      "[]\n",
      "'dict' object has no attribute 'append'\n",
      "[]\n",
      "'dict' object has no attribute 'append'\n"
     ]
    }
   ],
   "source": [
    "#for i in range(len(links)):\n",
    "for i in range(0, 4):\n",
    "    hemispheres = {}\n",
    "    \n",
    "    # We have to find the elements on each loop to avoid a stale element exception\n",
    "    #browser.find_by_css(\"a.product-item h3\")[i].click()\n",
    "    \n",
    "    #images = soup.find(\"a\", target_=\"blank\")['href'].text\n",
    "    #images = soup.find_all(\"a\", target_=\"_blank\")[i]['href'].text()\n",
    "    \n",
    "    try:    \n",
    "        images = soup.find_all(\"a\", 'href')\n",
    "        print(images)\n",
    "       \n",
    "    except AttributeError as a:\n",
    "        print(a)\n",
    "    \n",
    "    #browser.find_by_css(\"li\").click()   \n",
    "    #browser.links.find_by_partial_text(\"FULL IMAGE\").Click() \n",
    "    \n"
   ]
  },
  {
   "cell_type": "code",
   "execution_count": 105,
   "metadata": {},
   "outputs": [
    {
     "data": {
      "text/plain": [
       "[]"
      ]
     },
     "execution_count": 105,
     "metadata": {},
     "output_type": "execute_result"
    }
   ],
   "source": [
    "images = soup.find_all('img class_=')\n",
    "images"
   ]
  },
  {
   "cell_type": "code",
   "execution_count": null,
   "metadata": {},
   "outputs": [],
   "source": [
    "images"
   ]
  },
  {
   "cell_type": "code",
   "execution_count": null,
   "metadata": {},
   "outputs": [],
   "source": [
    "mars_images = url+images"
   ]
  },
  {
   "cell_type": "code",
   "execution_count": null,
   "metadata": {},
   "outputs": [],
   "source": [
    "mars_hemispheres = [\n",
    "    {\"title\" : \"Cerberus Hemisphere\", \"img_url\": \"/cache/images/39d3266553462198bd2fbc4d18fbed17_cerberus_enhanced.tif_thumb.png\"},\n",
    "    {\"title\" : \"Schiaparelli Hemisphere\", \"img_url\" : \"/cache/images/08eac6e22c07fb1fe72223a79252de20_schiaparelli_enhanced.tif_thumb.png\"},\n",
    "    {\"title\" : \"Syrtis Major Hemisphere\", \"img_url\" : \"/cache/images/55a0a1e2796313fdeafb17c35925e8ac_syrtis_major_enhanced.tif_thumb.png\"},\n",
    "    {\"title\" : \"Valles Marineris Hemiphere\", \"img_url\" : \"/cache/images/4e59980c1c57f89c680c0e1ccabbeff1_valles_marineris_enhanced.tif_thumb.png\"}\n",
    "    ]"
   ]
  }
 ],
 "metadata": {
  "kernelspec": {
   "display_name": "Python 3",
   "language": "python",
   "name": "python3"
  },
  "language_info": {
   "codemirror_mode": {
    "name": "ipython",
    "version": 3
   },
   "file_extension": ".py",
   "mimetype": "text/x-python",
   "name": "python",
   "nbconvert_exporter": "python",
   "pygments_lexer": "ipython3",
   "version": "3.8.5"
  }
 },
 "nbformat": 4,
 "nbformat_minor": 4
}
